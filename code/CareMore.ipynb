{
 "cells": [
  {
   "cell_type": "code",
   "execution_count": 81,
   "metadata": {},
   "outputs": [],
   "source": [
    "import psycopg2\n",
    "import pandas as pd"
   ]
  },
  {
   "cell_type": "code",
   "execution_count": null,
   "metadata": {},
   "outputs": [],
   "source": [
    "def validate_user(login, password):\n",
    "    return 1"
   ]
  },
  {
   "cell_type": "markdown",
   "metadata": {},
   "source": [
    "`docker run --name caremore -h caremore -p 5432:5432 -itd -e POSTGRES_PASSWORD=postgres -e POSTGRES_USER=caremore -e POSTGRES_DB=caremore postgres:10`"
   ]
  },
  {
   "cell_type": "markdown",
   "metadata": {},
   "source": [
    "```sql\n",
    "INSERT INTO public.\"Customer\"(\n",
    "\t\"CustomerID\", \"FirstName\", \"LastName\", \"Birthdate\", \"Gender\", \"CustomerLogin\", \"CustomerPassword\")\n",
    "\tVALUES (1, 'Goke', 'Alabi', '1990-01-01', 'Male', 'alabi', 'goke');\n",
    "\n",
    "INSERT INTO public.\"HealthcareCenter\"(\n",
    "\t\"ID\", \"Name\", \"Address\", \"Latitude\", \"Longitude\", \"PostalCode\", \"ContactPhone\", \"ContactEmail\")\n",
    "\tVALUES (1, 'Crags Healthcare Center', '10 Bowmont Pl Edinburgh', 55.944772, -3.179681, 'EH8 9RY', '440750000000', 'healthcare@crags.org');\n",
    "\n",
    "INSERT INTO public.\"Appointment\"(\n",
    "\t\"ID\", \"CustomerID\", \"HealthcareCenterID\", \"Time\", \"Date\")\n",
    "\tVALUES (1, 1, 1, '04:15 PM', '2020-02-24');\n",
    "\n",
    "INSERT INTO public.\"Perk_Assignment\"(\n",
    "\t\"PerkID\", \"CustomerID\", \"AddedDate\", \"PerkAssignmentID\")\n",
    "\tVALUES (1, 1, '2020-02-22', 1);\n",
    "\n",
    "INSERT INTO public.\"Perk\"(\n",
    "\t\"PerkID\", \"Name\", \"PerkType\", \"PartnerID\", \"Quantity\", \"Units\")\n",
    "\tVALUES (1, 'Sausage Roll', 'Food', 1, 1, 1);\n",
    "\n",
    "INSERT INTO public.\"Partner\"(\n",
    "\t\"PartnerID\", \"Name\", \"Address\", \"PostalCode\")\n",
    "\tVALUES (1, 'Greggs', 'Edinburgh', 'EH8 9PP');\n",
    "\n",
    "\n",
    "```"
   ]
  },
  {
   "cell_type": "code",
   "execution_count": 82,
   "metadata": {},
   "outputs": [],
   "source": [
    "try:\n",
    "    conn = psycopg2.connect(\"dbname='caremore' user='caremore' host='localhost' password='postgres'\")\n",
    "except:\n",
    "    print(\"I am unable to connect to the database\")"
   ]
  },
  {
   "cell_type": "code",
   "execution_count": 83,
   "metadata": {},
   "outputs": [],
   "source": [
    "def get_next_appointment(customer_id):\n",
    "    sql = '''select c.\"FirstName\"\n",
    "            , c.\"LastName\"\n",
    "            , h.\"Address\"\n",
    "            , a.\"Date\"\n",
    "            , a.\"Time\"\n",
    "    from public.\"Appointment\" as a inner join public.\"Customer\" as c\n",
    "            on a.\"CustomerID\" = c.\"CustomerID\"\n",
    "            inner join public.\"HealthcareCenter\" as h\n",
    "            on a.\"HealthcareCenterID\" = h.\"ID\"\n",
    "    where c.\"CustomerID\" = {};'''.format(customer_id)\n",
    "    df = pd.read_sql(sql, conn)\n",
    "    return df\n",
    "\n",
    "def get_perk_for_customer(customer_id):\n",
    "    sql = '''select c.\"FirstName\"\n",
    "            , c.\"LastName\"\n",
    "            , p.\"Name\" as perk\n",
    "            , pa.\"ValidUntil\"\n",
    "            , pt.\"Name\" as partner\n",
    "            --, pa.* \n",
    "            --, p.*\n",
    "            --, c.*\n",
    "            from public.\"Perk_Assignment\" as pa inner join public.\"Perk\" as p\n",
    "                on pa.\"PerkID\" = p.\"PerkID\"\n",
    "                inner join public.\"Customer\" as c\n",
    "                on pa.\"CustomerID\" = c.\"CustomerID\"\n",
    "                inner join public.\"Partner\" as pt\n",
    "                on p.\"PartnerID\" = pt.\"PartnerID\"\n",
    "            where c.\"CustomerID\" = {};'''.format(customer_id)\n",
    "    df = pd.read_sql(sql, conn)\n",
    "    return df"
   ]
  },
  {
   "cell_type": "code",
   "execution_count": 84,
   "metadata": {},
   "outputs": [
    {
     "name": "stdout",
     "output_type": "stream",
     "text": [
      "Welcome, what is your login?: galadi\n",
      "Welcome galadi\n"
     ]
    }
   ],
   "source": [
    "login = input('Welcome, what is your login?: ');\n",
    "print('Welcome {}'.format(login))\n",
    "\n",
    "customer_id = validate_user(login, \"*****\")\n",
    "next_appointment = get_next_appointment(customer_id)\n",
    "perk = get_perk_for_customer(customer_id)\n",
    "\n",
    "message_appointment = '''Hi {}\n",
    "Your Next Appointment\n",
    "GP Appointment\n",
    "{} \n",
    "{}\n",
    "{}'''.format(next_appointment.iloc[0].FirstName\n",
    "                       , next_appointment.iloc[0].Date\n",
    "                       , next_appointment.iloc[0].Time\n",
    "                       , next_appointment.iloc[0].Address)\n",
    "\n",
    "message_perk = '''This week`s bonus\n",
    "{} from {}'''.format(perk.iloc[0].perk\n",
    "                    , perk.iloc[0].partner)"
   ]
  },
  {
   "cell_type": "code",
   "execution_count": 85,
   "metadata": {},
   "outputs": [
    {
     "name": "stdout",
     "output_type": "stream",
     "text": [
      "Hi Goke\n",
      "Your Next Appointment\n",
      "GP Appointment\n",
      "2020-02-24 \n",
      "04:15 PM\n",
      "10 Bowmont Pl Edinburgh\n",
      "\n",
      "This week`s bonus\n",
      "Sausage Roll from Greggs\n"
     ]
    }
   ],
   "source": [
    "print(message_appointment)\n",
    "print()\n",
    "print(message_perk)"
   ]
  },
  {
   "cell_type": "code",
   "execution_count": 86,
   "metadata": {},
   "outputs": [
    {
     "data": {
      "text/plain": [
       "'Hi Goke\\nYour Next Appointment\\nGP Appointment\\n2020-02-24 \\n04:15 PM\\n10 Bowmont Pl Edinburgh'"
      ]
     },
     "execution_count": 86,
     "metadata": {},
     "output_type": "execute_result"
    }
   ],
   "source": [
    "message_appointment"
   ]
  },
  {
   "cell_type": "code",
   "execution_count": 87,
   "metadata": {},
   "outputs": [
    {
     "data": {
      "text/html": [
       "<div>\n",
       "<style scoped>\n",
       "    .dataframe tbody tr th:only-of-type {\n",
       "        vertical-align: middle;\n",
       "    }\n",
       "\n",
       "    .dataframe tbody tr th {\n",
       "        vertical-align: top;\n",
       "    }\n",
       "\n",
       "    .dataframe thead th {\n",
       "        text-align: right;\n",
       "    }\n",
       "</style>\n",
       "<table border=\"1\" class=\"dataframe\">\n",
       "  <thead>\n",
       "    <tr style=\"text-align: right;\">\n",
       "      <th></th>\n",
       "      <th>FirstName</th>\n",
       "      <th>LastName</th>\n",
       "      <th>perk</th>\n",
       "      <th>ValidUntil</th>\n",
       "      <th>partner</th>\n",
       "    </tr>\n",
       "  </thead>\n",
       "  <tbody>\n",
       "    <tr>\n",
       "      <th>0</th>\n",
       "      <td>Goke</td>\n",
       "      <td>Alabi</td>\n",
       "      <td>Sausage Roll</td>\n",
       "      <td>2020-03-01</td>\n",
       "      <td>Greggs</td>\n",
       "    </tr>\n",
       "  </tbody>\n",
       "</table>\n",
       "</div>"
      ],
      "text/plain": [
       "  FirstName LastName          perk  ValidUntil partner\n",
       "0      Goke    Alabi  Sausage Roll  2020-03-01  Greggs"
      ]
     },
     "execution_count": 87,
     "metadata": {},
     "output_type": "execute_result"
    }
   ],
   "source": [
    "perk"
   ]
  },
  {
   "cell_type": "code",
   "execution_count": null,
   "metadata": {},
   "outputs": [],
   "source": []
  }
 ],
 "metadata": {
  "kernelspec": {
   "display_name": "Python 3",
   "language": "python",
   "name": "python3"
  },
  "language_info": {
   "codemirror_mode": {
    "name": "ipython",
    "version": 3
   },
   "file_extension": ".py",
   "mimetype": "text/x-python",
   "name": "python",
   "nbconvert_exporter": "python",
   "pygments_lexer": "ipython3",
   "version": "3.7.3"
  }
 },
 "nbformat": 4,
 "nbformat_minor": 2
}
