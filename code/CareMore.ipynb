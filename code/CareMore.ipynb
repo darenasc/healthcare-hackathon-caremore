{
 "cells": [
  {
   "cell_type": "code",
   "execution_count": 12,
   "metadata": {},
   "outputs": [],
   "source": [
    "import caremore as cm\n",
    "import importlib"
   ]
  },
  {
   "cell_type": "code",
   "execution_count": 13,
   "metadata": {},
   "outputs": [
    {
     "data": {
      "text/plain": [
       "<module 'caremore' from '/Users/darenasc/Dropbox/Business Intelligence/Proyectos/ProductForge/2020_digital_healthcare_hackathon/MVP/caremore.py'>"
      ]
     },
     "execution_count": 13,
     "metadata": {},
     "output_type": "execute_result"
    }
   ],
   "source": [
    "importlib.reload(cm)"
   ]
  },
  {
   "cell_type": "code",
   "execution_count": 14,
   "metadata": {},
   "outputs": [
    {
     "name": "stdout",
     "output_type": "stream",
     "text": [
      "Welcome, what is your login?: galadi\n",
      "Welcome galadi\n",
      "\n",
      "Hi Goke\n",
      "Your Next Appointment\n",
      "GP Appointment\n",
      "2020-02-24 \n",
      "04:15 PM\n",
      "10 Bowmont Pl Edinburgh\n",
      "\n",
      "This week`s bonus\n",
      "Sausage Roll from Greggs\n"
     ]
    }
   ],
   "source": [
    "user_login = input('Welcome, what is your login?: ');\n",
    "print('Welcome {}'.format(user_login))\n",
    "message_appointment, message_perk = cm.welcome_user(user_login)\n",
    "print()\n",
    "print(message_appointment)\n",
    "print()\n",
    "print(message_perk)"
   ]
  }
 ],
 "metadata": {
  "kernelspec": {
   "display_name": "Python 3",
   "language": "python",
   "name": "python3"
  },
  "language_info": {
   "codemirror_mode": {
    "name": "ipython",
    "version": 3
   },
   "file_extension": ".py",
   "mimetype": "text/x-python",
   "name": "python",
   "nbconvert_exporter": "python",
   "pygments_lexer": "ipython3",
   "version": "3.7.3"
  }
 },
 "nbformat": 4,
 "nbformat_minor": 2
}
